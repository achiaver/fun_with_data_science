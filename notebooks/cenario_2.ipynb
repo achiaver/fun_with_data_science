{
 "cells": [
  {
   "cell_type": "markdown",
   "metadata": {},
   "source": [
    "# Cenário II - Proposta\n",
    "\n",
    "O segundo entregável consiste na transformação de dados disponíveis em <a href=\"https://drive.google.com/file/d/1IDCjpDZh5St97jw4K_bAewJ8hf-rax9C/view?usp=sharing\">arquivo Json</a> para o formato de dataframe, algo comum no dia a dia da empresa. Após transformar esse Json em dataframe é possível perceber que a coluna \"item_list\" está como dicionário. Seu gestor pediu dois pontos de atenção nessa tarefa:\n",
    "\n",
    "- Expandir a coluna num mesmo dataframe;\n",
    "- Normalizar os itens dessa coluna de dicionário e dividí-los em dois dataframes separados, seguindo o modelo relacional.\n"
   ]
  },
  {
   "cell_type": "code",
   "execution_count": 103,
   "metadata": {},
   "outputs": [],
   "source": [
    "import pandas as pd\n",
    "import numpy as np"
   ]
  },
  {
   "cell_type": "code",
   "execution_count": 104,
   "metadata": {},
   "outputs": [],
   "source": [
    "df_main = pd.read_json(\"../data/data.json\")"
   ]
  },
  {
   "cell_type": "code",
   "execution_count": 105,
   "metadata": {},
   "outputs": [
    {
     "data": {
      "text/html": [
       "<div>\n",
       "<style scoped>\n",
       "    .dataframe tbody tr th:only-of-type {\n",
       "        vertical-align: middle;\n",
       "    }\n",
       "\n",
       "    .dataframe tbody tr th {\n",
       "        vertical-align: top;\n",
       "    }\n",
       "\n",
       "    .dataframe thead th {\n",
       "        text-align: right;\n",
       "    }\n",
       "</style>\n",
       "<table border=\"1\" class=\"dataframe\">\n",
       "  <thead>\n",
       "    <tr style=\"text-align: right;\">\n",
       "      <th></th>\n",
       "      <th>CreateDate</th>\n",
       "      <th>EmissionDate</th>\n",
       "      <th>Discount</th>\n",
       "      <th>NFeNumber</th>\n",
       "      <th>NFeID</th>\n",
       "      <th>ItemList</th>\n",
       "    </tr>\n",
       "  </thead>\n",
       "  <tbody>\n",
       "    <tr>\n",
       "      <th>0</th>\n",
       "      <td>2021-05-24T20:21:34.79</td>\n",
       "      <td>2021-05-24T00:00:00</td>\n",
       "      <td>0</td>\n",
       "      <td>501</td>\n",
       "      <td>1</td>\n",
       "      <td>[{'ProductName': 'Rice', 'Value': 35.55, 'Quan...</td>\n",
       "    </tr>\n",
       "    <tr>\n",
       "      <th>1</th>\n",
       "      <td>2021-05-24T20:21:34.79</td>\n",
       "      <td>2021-05-24T00:00:00</td>\n",
       "      <td>0</td>\n",
       "      <td>502</td>\n",
       "      <td>2</td>\n",
       "      <td>[{'ProductName': 'Tomate', 'Value': 12.25, 'Qu...</td>\n",
       "    </tr>\n",
       "    <tr>\n",
       "      <th>2</th>\n",
       "      <td>2021-05-24T20:21:34.79</td>\n",
       "      <td>2021-05-24T00:00:00</td>\n",
       "      <td>0</td>\n",
       "      <td>503</td>\n",
       "      <td>3</td>\n",
       "      <td>[{'ProductName': 'Beer', 'Value': 9.0, 'Quanti...</td>\n",
       "    </tr>\n",
       "  </tbody>\n",
       "</table>\n",
       "</div>"
      ],
      "text/plain": [
       "               CreateDate         EmissionDate  Discount  NFeNumber  NFeID  \\\n",
       "0  2021-05-24T20:21:34.79  2021-05-24T00:00:00         0        501      1   \n",
       "1  2021-05-24T20:21:34.79  2021-05-24T00:00:00         0        502      2   \n",
       "2  2021-05-24T20:21:34.79  2021-05-24T00:00:00         0        503      3   \n",
       "\n",
       "                                            ItemList  \n",
       "0  [{'ProductName': 'Rice', 'Value': 35.55, 'Quan...  \n",
       "1  [{'ProductName': 'Tomate', 'Value': 12.25, 'Qu...  \n",
       "2  [{'ProductName': 'Beer', 'Value': 9.0, 'Quanti...  "
      ]
     },
     "execution_count": 105,
     "metadata": {},
     "output_type": "execute_result"
    }
   ],
   "source": [
    "df_main.head()"
   ]
  },
  {
   "cell_type": "markdown",
   "metadata": {},
   "source": [
    "# Verificação das Colunas\n",
    "\n",
    "Podemos ver que a coluna `ItemList` é composta por uma lista de dicionários, que inforam os produtos, valores e quantidades que foram adquiridos."
   ]
  },
  {
   "cell_type": "code",
   "execution_count": 106,
   "metadata": {},
   "outputs": [
    {
     "name": "stdout",
     "output_type": "stream",
     "text": [
      "<class 'pandas.core.frame.DataFrame'>\n",
      "RangeIndex: 3 entries, 0 to 2\n",
      "Data columns (total 6 columns):\n",
      " #   Column        Non-Null Count  Dtype \n",
      "---  ------        --------------  ----- \n",
      " 0   CreateDate    3 non-null      object\n",
      " 1   EmissionDate  3 non-null      object\n",
      " 2   Discount      3 non-null      int64 \n",
      " 3   NFeNumber     3 non-null      int64 \n",
      " 4   NFeID         3 non-null      int64 \n",
      " 5   ItemList      3 non-null      object\n",
      "dtypes: int64(3), object(3)\n",
      "memory usage: 272.0+ bytes\n"
     ]
    }
   ],
   "source": [
    "df_main.info()"
   ]
  },
  {
   "cell_type": "code",
   "execution_count": 107,
   "metadata": {},
   "outputs": [
    {
     "data": {
      "text/plain": [
       "0    [{'ProductName': 'Rice', 'Value': 35.55, 'Quan...\n",
       "1    [{'ProductName': 'Tomate', 'Value': 12.25, 'Qu...\n",
       "2    [{'ProductName': 'Beer', 'Value': 9.0, 'Quanti...\n",
       "Name: ItemList, dtype: object"
      ]
     },
     "execution_count": 107,
     "metadata": {},
     "output_type": "execute_result"
    }
   ],
   "source": [
    "df_main[\"ItemList\"]"
   ]
  },
  {
   "cell_type": "code",
   "execution_count": 108,
   "metadata": {},
   "outputs": [
    {
     "data": {
      "text/plain": [
       "[{'ProductName': 'Rice', 'Value': 35.55, 'Quantity': 2},\n",
       " {'ProductName': 'Flour', 'Value': 11.55, 'Quantity': 5},\n",
       " {'ProductName': 'Bean', 'Value': 27.15, 'Quantity': 7}]"
      ]
     },
     "execution_count": 108,
     "metadata": {},
     "output_type": "execute_result"
    }
   ],
   "source": [
    "df_main[\"ItemList\"][0]"
   ]
  },
  {
   "cell_type": "markdown",
   "metadata": {},
   "source": [
    "Primeiro, podemos apenas transformar a informação da lista em diferentes colunas, sendo que cada entrada é o dicionário para um produto."
   ]
  },
  {
   "cell_type": "code",
   "execution_count": 109,
   "metadata": {},
   "outputs": [],
   "source": [
    "df_main_extended = pd.concat([df_main.drop([\"ItemList\"], axis=1), df_main[\"ItemList\"].apply(pd.Series)], axis=1)"
   ]
  },
  {
   "cell_type": "code",
   "execution_count": 110,
   "metadata": {},
   "outputs": [
    {
     "data": {
      "text/html": [
       "<div>\n",
       "<style scoped>\n",
       "    .dataframe tbody tr th:only-of-type {\n",
       "        vertical-align: middle;\n",
       "    }\n",
       "\n",
       "    .dataframe tbody tr th {\n",
       "        vertical-align: top;\n",
       "    }\n",
       "\n",
       "    .dataframe thead th {\n",
       "        text-align: right;\n",
       "    }\n",
       "</style>\n",
       "<table border=\"1\" class=\"dataframe\">\n",
       "  <thead>\n",
       "    <tr style=\"text-align: right;\">\n",
       "      <th></th>\n",
       "      <th>CreateDate</th>\n",
       "      <th>EmissionDate</th>\n",
       "      <th>Discount</th>\n",
       "      <th>NFeNumber</th>\n",
       "      <th>NFeID</th>\n",
       "      <th>0</th>\n",
       "      <th>1</th>\n",
       "      <th>2</th>\n",
       "    </tr>\n",
       "  </thead>\n",
       "  <tbody>\n",
       "    <tr>\n",
       "      <th>0</th>\n",
       "      <td>2021-05-24T20:21:34.79</td>\n",
       "      <td>2021-05-24T00:00:00</td>\n",
       "      <td>0</td>\n",
       "      <td>501</td>\n",
       "      <td>1</td>\n",
       "      <td>{'ProductName': 'Rice', 'Value': 35.55, 'Quant...</td>\n",
       "      <td>{'ProductName': 'Flour', 'Value': 11.55, 'Quan...</td>\n",
       "      <td>{'ProductName': 'Bean', 'Value': 27.15, 'Quant...</td>\n",
       "    </tr>\n",
       "    <tr>\n",
       "      <th>1</th>\n",
       "      <td>2021-05-24T20:21:34.79</td>\n",
       "      <td>2021-05-24T00:00:00</td>\n",
       "      <td>0</td>\n",
       "      <td>502</td>\n",
       "      <td>2</td>\n",
       "      <td>{'ProductName': 'Tomate', 'Value': 12.25, 'Qua...</td>\n",
       "      <td>{'ProductName': 'Pasta', 'Value': 7.55, 'Quant...</td>\n",
       "      <td>NaN</td>\n",
       "    </tr>\n",
       "    <tr>\n",
       "      <th>2</th>\n",
       "      <td>2021-05-24T20:21:34.79</td>\n",
       "      <td>2021-05-24T00:00:00</td>\n",
       "      <td>0</td>\n",
       "      <td>503</td>\n",
       "      <td>3</td>\n",
       "      <td>{'ProductName': 'Beer', 'Value': 9.0, 'Quantit...</td>\n",
       "      <td>{'ProductName': 'French fries', 'Value': 10.99...</td>\n",
       "      <td>{'ProductName': 'Ice cream', 'Value': 27.15, '...</td>\n",
       "    </tr>\n",
       "  </tbody>\n",
       "</table>\n",
       "</div>"
      ],
      "text/plain": [
       "               CreateDate         EmissionDate  Discount  NFeNumber  NFeID  \\\n",
       "0  2021-05-24T20:21:34.79  2021-05-24T00:00:00         0        501      1   \n",
       "1  2021-05-24T20:21:34.79  2021-05-24T00:00:00         0        502      2   \n",
       "2  2021-05-24T20:21:34.79  2021-05-24T00:00:00         0        503      3   \n",
       "\n",
       "                                                   0  \\\n",
       "0  {'ProductName': 'Rice', 'Value': 35.55, 'Quant...   \n",
       "1  {'ProductName': 'Tomate', 'Value': 12.25, 'Qua...   \n",
       "2  {'ProductName': 'Beer', 'Value': 9.0, 'Quantit...   \n",
       "\n",
       "                                                   1  \\\n",
       "0  {'ProductName': 'Flour', 'Value': 11.55, 'Quan...   \n",
       "1  {'ProductName': 'Pasta', 'Value': 7.55, 'Quant...   \n",
       "2  {'ProductName': 'French fries', 'Value': 10.99...   \n",
       "\n",
       "                                                   2  \n",
       "0  {'ProductName': 'Bean', 'Value': 27.15, 'Quant...  \n",
       "1                                                NaN  \n",
       "2  {'ProductName': 'Ice cream', 'Value': 27.15, '...  "
      ]
     },
     "execution_count": 110,
     "metadata": {},
     "output_type": "execute_result"
    }
   ],
   "source": [
    "df_main_extended.head()"
   ]
  },
  {
   "cell_type": "markdown",
   "metadata": {},
   "source": [
    "Nas colunas:\n",
    "- \"CreateDate\",\n",
    "- \"EmissionDate\",\n",
    "- \"Discount\",\n",
    "- \"NFeNumber\",\n",
    "- \"NFeID\",     \n",
    "\n",
    "não temos nenhuma informação sobre os produtos. Podemos fazer uma seleção nestas colunas de modo que elas fiquem de fora das próximas etapas de processamento, em que iremos tirar as colunas dos produtos e passar para DataFrame separado fazendo o link pela coluna `NFeID`."
   ]
  },
  {
   "cell_type": "code",
   "execution_count": 111,
   "metadata": {},
   "outputs": [],
   "source": [
    "columns_main = [\"CreateDate\", \"EmissionDate\", \"Discount\", \"NFeNumber\", \"NFeID\"]"
   ]
  },
  {
   "cell_type": "code",
   "execution_count": 122,
   "metadata": {},
   "outputs": [],
   "source": [
    "list_product = [] \n",
    "list_product_col = []\n",
    "for i, row in enumerate(df_main[\"ItemList\"]):\n",
    "    for item in row:\n",
    "        item[\"NFeID\"] = df_main[\"NFeID\"][i]\n",
    "        list_product.append(item)\n",
    "    list_product_col.append(i)"
   ]
  },
  {
   "cell_type": "code",
   "execution_count": 113,
   "metadata": {},
   "outputs": [
    {
     "data": {
      "text/plain": [
       "[{'ProductName': 'Rice', 'Value': 35.55, 'Quantity': 2, 'NFeID': 1},\n",
       " {'ProductName': 'Flour', 'Value': 11.55, 'Quantity': 5, 'NFeID': 1},\n",
       " {'ProductName': 'Bean', 'Value': 27.15, 'Quantity': 7, 'NFeID': 1},\n",
       " {'ProductName': 'Tomate', 'Value': 12.25, 'Quantity': 10, 'NFeID': 2},\n",
       " {'ProductName': 'Pasta', 'Value': 7.55, 'Quantity': 5, 'NFeID': 2},\n",
       " {'ProductName': 'Beer', 'Value': 9.0, 'Quantity': 6, 'NFeID': 3},\n",
       " {'ProductName': 'French fries', 'Value': 10.99, 'Quantity': 2, 'NFeID': 3},\n",
       " {'ProductName': 'Ice cream', 'Value': 27.15, 'Quantity': 1, 'NFeID': 3}]"
      ]
     },
     "execution_count": 113,
     "metadata": {},
     "output_type": "execute_result"
    }
   ],
   "source": [
    "list_product"
   ]
  },
  {
   "cell_type": "code",
   "execution_count": 114,
   "metadata": {},
   "outputs": [],
   "source": [
    "df_prod = pd.DataFrame(list_product)"
   ]
  },
  {
   "cell_type": "code",
   "execution_count": 115,
   "metadata": {},
   "outputs": [
    {
     "data": {
      "text/html": [
       "<div>\n",
       "<style scoped>\n",
       "    .dataframe tbody tr th:only-of-type {\n",
       "        vertical-align: middle;\n",
       "    }\n",
       "\n",
       "    .dataframe tbody tr th {\n",
       "        vertical-align: top;\n",
       "    }\n",
       "\n",
       "    .dataframe thead th {\n",
       "        text-align: right;\n",
       "    }\n",
       "</style>\n",
       "<table border=\"1\" class=\"dataframe\">\n",
       "  <thead>\n",
       "    <tr style=\"text-align: right;\">\n",
       "      <th></th>\n",
       "      <th>ProductName</th>\n",
       "      <th>Value</th>\n",
       "      <th>Quantity</th>\n",
       "      <th>NFeID</th>\n",
       "    </tr>\n",
       "  </thead>\n",
       "  <tbody>\n",
       "    <tr>\n",
       "      <th>0</th>\n",
       "      <td>Rice</td>\n",
       "      <td>35.55</td>\n",
       "      <td>2</td>\n",
       "      <td>1</td>\n",
       "    </tr>\n",
       "    <tr>\n",
       "      <th>1</th>\n",
       "      <td>Flour</td>\n",
       "      <td>11.55</td>\n",
       "      <td>5</td>\n",
       "      <td>1</td>\n",
       "    </tr>\n",
       "    <tr>\n",
       "      <th>2</th>\n",
       "      <td>Bean</td>\n",
       "      <td>27.15</td>\n",
       "      <td>7</td>\n",
       "      <td>1</td>\n",
       "    </tr>\n",
       "    <tr>\n",
       "      <th>3</th>\n",
       "      <td>Tomate</td>\n",
       "      <td>12.25</td>\n",
       "      <td>10</td>\n",
       "      <td>2</td>\n",
       "    </tr>\n",
       "    <tr>\n",
       "      <th>4</th>\n",
       "      <td>Pasta</td>\n",
       "      <td>7.55</td>\n",
       "      <td>5</td>\n",
       "      <td>2</td>\n",
       "    </tr>\n",
       "    <tr>\n",
       "      <th>5</th>\n",
       "      <td>Beer</td>\n",
       "      <td>9.00</td>\n",
       "      <td>6</td>\n",
       "      <td>3</td>\n",
       "    </tr>\n",
       "    <tr>\n",
       "      <th>6</th>\n",
       "      <td>French fries</td>\n",
       "      <td>10.99</td>\n",
       "      <td>2</td>\n",
       "      <td>3</td>\n",
       "    </tr>\n",
       "    <tr>\n",
       "      <th>7</th>\n",
       "      <td>Ice cream</td>\n",
       "      <td>27.15</td>\n",
       "      <td>1</td>\n",
       "      <td>3</td>\n",
       "    </tr>\n",
       "  </tbody>\n",
       "</table>\n",
       "</div>"
      ],
      "text/plain": [
       "    ProductName  Value  Quantity  NFeID\n",
       "0          Rice  35.55         2      1\n",
       "1         Flour  11.55         5      1\n",
       "2          Bean  27.15         7      1\n",
       "3        Tomate  12.25        10      2\n",
       "4         Pasta   7.55         5      2\n",
       "5          Beer   9.00         6      3\n",
       "6  French fries  10.99         2      3\n",
       "7     Ice cream  27.15         1      3"
      ]
     },
     "execution_count": 115,
     "metadata": {},
     "output_type": "execute_result"
    }
   ],
   "source": [
    "df_prod"
   ]
  },
  {
   "cell_type": "code",
   "execution_count": 119,
   "metadata": {},
   "outputs": [
    {
     "data": {
      "text/plain": [
       "['0', '1', '2']"
      ]
     },
     "execution_count": 119,
     "metadata": {},
     "output_type": "execute_result"
    }
   ],
   "source": [
    "list_product_col"
   ]
  },
  {
   "cell_type": "code",
   "execution_count": 126,
   "metadata": {},
   "outputs": [],
   "source": [
    "df_main.drop(\"ItemList\", axis=1, inplace=True)"
   ]
  },
  {
   "cell_type": "code",
   "execution_count": 127,
   "metadata": {},
   "outputs": [
    {
     "data": {
      "text/html": [
       "<div>\n",
       "<style scoped>\n",
       "    .dataframe tbody tr th:only-of-type {\n",
       "        vertical-align: middle;\n",
       "    }\n",
       "\n",
       "    .dataframe tbody tr th {\n",
       "        vertical-align: top;\n",
       "    }\n",
       "\n",
       "    .dataframe thead th {\n",
       "        text-align: right;\n",
       "    }\n",
       "</style>\n",
       "<table border=\"1\" class=\"dataframe\">\n",
       "  <thead>\n",
       "    <tr style=\"text-align: right;\">\n",
       "      <th></th>\n",
       "      <th>CreateDate</th>\n",
       "      <th>EmissionDate</th>\n",
       "      <th>Discount</th>\n",
       "      <th>NFeNumber</th>\n",
       "      <th>NFeID</th>\n",
       "    </tr>\n",
       "  </thead>\n",
       "  <tbody>\n",
       "    <tr>\n",
       "      <th>0</th>\n",
       "      <td>2021-05-24T20:21:34.79</td>\n",
       "      <td>2021-05-24T00:00:00</td>\n",
       "      <td>0</td>\n",
       "      <td>501</td>\n",
       "      <td>1</td>\n",
       "    </tr>\n",
       "    <tr>\n",
       "      <th>1</th>\n",
       "      <td>2021-05-24T20:21:34.79</td>\n",
       "      <td>2021-05-24T00:00:00</td>\n",
       "      <td>0</td>\n",
       "      <td>502</td>\n",
       "      <td>2</td>\n",
       "    </tr>\n",
       "    <tr>\n",
       "      <th>2</th>\n",
       "      <td>2021-05-24T20:21:34.79</td>\n",
       "      <td>2021-05-24T00:00:00</td>\n",
       "      <td>0</td>\n",
       "      <td>503</td>\n",
       "      <td>3</td>\n",
       "    </tr>\n",
       "  </tbody>\n",
       "</table>\n",
       "</div>"
      ],
      "text/plain": [
       "               CreateDate         EmissionDate  Discount  NFeNumber  NFeID\n",
       "0  2021-05-24T20:21:34.79  2021-05-24T00:00:00         0        501      1\n",
       "1  2021-05-24T20:21:34.79  2021-05-24T00:00:00         0        502      2\n",
       "2  2021-05-24T20:21:34.79  2021-05-24T00:00:00         0        503      3"
      ]
     },
     "execution_count": 127,
     "metadata": {},
     "output_type": "execute_result"
    }
   ],
   "source": [
    "df_main"
   ]
  },
  {
   "cell_type": "code",
   "execution_count": 128,
   "metadata": {},
   "outputs": [
    {
     "data": {
      "text/html": [
       "<div>\n",
       "<style scoped>\n",
       "    .dataframe tbody tr th:only-of-type {\n",
       "        vertical-align: middle;\n",
       "    }\n",
       "\n",
       "    .dataframe tbody tr th {\n",
       "        vertical-align: top;\n",
       "    }\n",
       "\n",
       "    .dataframe thead th {\n",
       "        text-align: right;\n",
       "    }\n",
       "</style>\n",
       "<table border=\"1\" class=\"dataframe\">\n",
       "  <thead>\n",
       "    <tr style=\"text-align: right;\">\n",
       "      <th></th>\n",
       "      <th>ProductName</th>\n",
       "      <th>Value</th>\n",
       "      <th>Quantity</th>\n",
       "      <th>NFeID</th>\n",
       "    </tr>\n",
       "  </thead>\n",
       "  <tbody>\n",
       "    <tr>\n",
       "      <th>0</th>\n",
       "      <td>Rice</td>\n",
       "      <td>35.55</td>\n",
       "      <td>2</td>\n",
       "      <td>1</td>\n",
       "    </tr>\n",
       "    <tr>\n",
       "      <th>1</th>\n",
       "      <td>Flour</td>\n",
       "      <td>11.55</td>\n",
       "      <td>5</td>\n",
       "      <td>1</td>\n",
       "    </tr>\n",
       "    <tr>\n",
       "      <th>2</th>\n",
       "      <td>Bean</td>\n",
       "      <td>27.15</td>\n",
       "      <td>7</td>\n",
       "      <td>1</td>\n",
       "    </tr>\n",
       "    <tr>\n",
       "      <th>3</th>\n",
       "      <td>Tomate</td>\n",
       "      <td>12.25</td>\n",
       "      <td>10</td>\n",
       "      <td>2</td>\n",
       "    </tr>\n",
       "    <tr>\n",
       "      <th>4</th>\n",
       "      <td>Pasta</td>\n",
       "      <td>7.55</td>\n",
       "      <td>5</td>\n",
       "      <td>2</td>\n",
       "    </tr>\n",
       "    <tr>\n",
       "      <th>5</th>\n",
       "      <td>Beer</td>\n",
       "      <td>9.00</td>\n",
       "      <td>6</td>\n",
       "      <td>3</td>\n",
       "    </tr>\n",
       "    <tr>\n",
       "      <th>6</th>\n",
       "      <td>French fries</td>\n",
       "      <td>10.99</td>\n",
       "      <td>2</td>\n",
       "      <td>3</td>\n",
       "    </tr>\n",
       "    <tr>\n",
       "      <th>7</th>\n",
       "      <td>Ice cream</td>\n",
       "      <td>27.15</td>\n",
       "      <td>1</td>\n",
       "      <td>3</td>\n",
       "    </tr>\n",
       "  </tbody>\n",
       "</table>\n",
       "</div>"
      ],
      "text/plain": [
       "    ProductName  Value  Quantity  NFeID\n",
       "0          Rice  35.55         2      1\n",
       "1         Flour  11.55         5      1\n",
       "2          Bean  27.15         7      1\n",
       "3        Tomate  12.25        10      2\n",
       "4         Pasta   7.55         5      2\n",
       "5          Beer   9.00         6      3\n",
       "6  French fries  10.99         2      3\n",
       "7     Ice cream  27.15         1      3"
      ]
     },
     "execution_count": 128,
     "metadata": {},
     "output_type": "execute_result"
    }
   ],
   "source": [
    "df_prod"
   ]
  },
  {
   "cell_type": "markdown",
   "metadata": {},
   "source": [
    "Por último, temos dois DataFrames:\n",
    "- df_main,\n",
    "- df_prod,\n",
    "\n",
    "nas quais temos o dado de entrada em df_main com exceção da coluna `ItemList`, e o dado dos produtos para cada nota em df_prod. "
   ]
  },
  {
   "cell_type": "markdown",
   "metadata": {},
   "source": []
  }
 ],
 "metadata": {
  "interpreter": {
   "hash": "01c1cefed0550c79a29fba90c54ae81dac69522dafa1a36afb5a68ec6c0cf5be"
  },
  "kernelspec": {
   "display_name": "Python 3.9.9 64-bit",
   "language": "python",
   "name": "python3"
  },
  "language_info": {
   "codemirror_mode": {
    "name": "ipython",
    "version": 3
   },
   "file_extension": ".py",
   "mimetype": "text/x-python",
   "name": "python",
   "nbconvert_exporter": "python",
   "pygments_lexer": "ipython3",
   "version": "3.9.9"
  },
  "orig_nbformat": 4
 },
 "nbformat": 4,
 "nbformat_minor": 2
}
